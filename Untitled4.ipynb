{
 "cells": [
  {
   "cell_type": "markdown",
   "metadata": {},
   "source": [
    "# High level insight on genetic variations\n",
    "Note: As this is my first published Kernel, am open to suggestions. If this helped you, some upvotes would be very much appreciated.\n",
    "\n",
    "### Library and Settings\n",
    "\n",
    "Import required library and define constants"
   ]
  },
  {
   "cell_type": "code",
   "execution_count": 1,
   "metadata": {
    "collapsed": true
   },
   "outputs": [],
   "source": [
    "import os\n",
    "import math\n",
    "import numpy as np\n",
    "import pandas as pd\n",
    "import seaborn as sns\n",
    "\n",
    "%matplotlib inline\n",
    "import matplotlib.pyplot as plt\n",
    "from sklearn.feature_extraction.text import TfidfVectorizer"
   ]
  },
  {
   "cell_type": "markdown",
   "metadata": {},
   "source": [
    "### Files"
   ]
  },
  {
   "cell_type": "code",
   "execution_count": 3,
   "metadata": {
    "collapsed": false
   },
   "outputs": [
    {
     "name": "stdout",
     "output_type": "stream",
     "text": [
      "stage1_solution_filtered.csv8.0    KB\n",
      "stage2_sample_submission.csv21.0   KB\n",
      "stage2_test_text.csv59.15  MB\n",
      "stage2_test_variants.csv16.0   KB\n",
      "submission_xgb_09_28_22_31_16.csv147.0  KB\n",
      "test_text           313.3  MB\n",
      "test_variants       93.0   KB\n",
      "training_text       207.15 MB\n",
      "training_variants   66.0   KB\n"
     ]
    }
   ],
   "source": [
    "for f in os.listdir('input'):\n",
    "    size_bytes = round(os.path.getsize('input/' + f)/ 1000, 2)\n",
    "    size_name = [\"KB\", \"MB\"]\n",
    "    i = int(math.floor(math.log(size_bytes, 1024)))\n",
    "    p = math.pow(1024, i)\n",
    "    s = round(size_bytes / p, 2)\n",
    "    print(f.ljust(20) + str(s).ljust(7) + size_name[i])"
   ]
  },
  {
   "cell_type": "markdown",
   "metadata": {},
   "source": [
    "Training data size is smaller than testing counterpart.\n",
    "\n",
    "### Sneak Peak of data\n",
    "\n",
    "Load training and testing data. Have a quick look at columns, its shape and values"
   ]
  },
  {
   "cell_type": "code",
   "execution_count": 5,
   "metadata": {
    "collapsed": false
   },
   "outputs": [
    {
     "name": "stdout",
     "output_type": "stream",
     "text": [
      "('Train Variant  ', (3321, 4))\n",
      "('Train Text     ', (3321, 2))\n",
      "('Test Variant   ', (5668, 3))\n",
      "('Test Text      ', (5668, 2))\n"
     ]
    }
   ],
   "source": [
    "train_variants_df = pd.read_csv(\"input/training_variants\")\n",
    "test_variants_df = pd.read_csv(\"input/test_variants\")\n",
    "train_text_df = pd.read_csv(\"input/training_text\", sep=\"\\|\\|\", engine=\"python\", skiprows=1, names=[\"ID\", \"Text\"])\n",
    "test_text_df = pd.read_csv(\"input/test_text\", sep=\"\\|\\|\", engine=\"python\", skiprows=1, names=[\"ID\", \"Text\"])\n",
    "print(\"Train Variant\".ljust(15), train_variants_df.shape)\n",
    "print(\"Train Text\".ljust(15), train_text_df.shape)\n",
    "print(\"Test Variant\".ljust(15), test_variants_df.shape)\n",
    "print(\"Test Text\".ljust(15), test_text_df.shape)"
   ]
  },
  {
   "cell_type": "code",
   "execution_count": null,
   "metadata": {
    "collapsed": true
   },
   "outputs": [],
   "source": []
  }
 ],
 "metadata": {
  "kernelspec": {
   "display_name": "Python 2",
   "language": "python",
   "name": "python2"
  },
  "language_info": {
   "codemirror_mode": {
    "name": "ipython",
    "version": 2
   },
   "file_extension": ".py",
   "mimetype": "text/x-python",
   "name": "python",
   "nbconvert_exporter": "python",
   "pygments_lexer": "ipython2",
   "version": "2.7.13"
  }
 },
 "nbformat": 4,
 "nbformat_minor": 2
}
