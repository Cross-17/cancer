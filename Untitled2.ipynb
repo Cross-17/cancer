{
 "cells": [
  {
   "cell_type": "code",
   "execution_count": 2,
   "metadata": {
    "collapsed": false
   },
   "outputs": [
    {
     "name": "stderr",
     "output_type": "stream",
     "text": [
      "C:\\Users\\Crossbell\\Anaconda2\\lib\\site-packages\\sklearn\\cross_validation.py:41: DeprecationWarning: This module was deprecated in version 0.18 in favor of the model_selection module into which all the refactored classes and functions are moved. Also note that the interface of the new CV iterators are different from that of this module. This module will be removed in 0.20.\n",
      "  \"This module will be removed in 0.20.\", DeprecationWarning)\n"
     ]
    }
   ],
   "source": [
    "from sklearn import preprocessing, pipeline, feature_extraction, decomposition, model_selection, metrics, cross_validation, svm\n",
    "from sklearn.ensemble import RandomForestClassifier, AdaBoostClassifier, GradientBoostingClassifier, BaggingClassifier\n",
    "from sklearn.base import BaseEstimator, TransformerMixin\n",
    "from sklearn.feature_selection import SelectKBest, chi2\n",
    "from sklearn.preprocessing import normalize, Imputer\n",
    "from sklearn.model_selection import GridSearchCV\n",
    "from sklearn.linear_model import SGDClassifier\n",
    "from sklearn.naive_bayes import MultinomialNB\n",
    "\n",
    "import sklearn\n",
    "import pandas as pd\n",
    "import numpy as np\n",
    "import xgboost as xgb\n",
    "\n",
    "import datetime"
   ]
  },
  {
   "cell_type": "code",
   "execution_count": 3,
   "metadata": {
    "collapsed": false
   },
   "outputs": [],
   "source": [
    "train = pd.read_csv('input/training_variants')\n",
    "test = pd.read_csv('input/stage2_test_variants.csv')\n",
    "trainx = pd.read_csv('input/training_text', sep=\"\\|\\|\", engine='python', header=None, skiprows=1, names=[\"ID\",\"Text\"])\n",
    "testx = pd.read_csv('input/stage2_test_text.csv', sep=\"\\|\\|\", engine='python', header=None, skiprows=1, names=[\"ID\",\"Text\"])\n",
    "\n",
    "train = pd.merge(train, trainx, how='left', on='ID').fillna('')\n",
    "y = train['Class'].values\n",
    "train = train.drop(['Class'], axis=1)\n",
    "\n",
    "test = pd.merge(test, testx, how='left', on='ID').fillna('')\n",
    "pid = test['ID'].values"
   ]
  },
  {
   "cell_type": "code",
   "execution_count": 4,
   "metadata": {
    "collapsed": false
   },
   "outputs": [],
   "source": [
    "df_all = pd.concat((train, test), axis=0, ignore_index=True)\n",
    "df_all['Gene_Share'] = df_all.apply(lambda r: sum([1 for w in r['Gene'].split(' ') if w in r['Text'].split(' ')]), axis=1)\n",
    "df_all['Variation_Share'] = df_all.apply(lambda r: sum([1 for w in r['Variation'].split(' ') if w in r['Text'].split(' ')]), axis=1)"
   ]
  },
  {
   "cell_type": "code",
   "execution_count": 5,
   "metadata": {
    "collapsed": false
   },
   "outputs": [
    {
     "name": "stdout",
     "output_type": "stream",
     "text": [
      "3260\n"
     ]
    }
   ],
   "source": [
    "gen_var_lst = sorted(list(train.Gene.unique()) + list(train.Variation.unique()))\n",
    "print(len(gen_var_lst))"
   ]
  },
  {
   "cell_type": "code",
   "execution_count": 6,
   "metadata": {
    "collapsed": false
   },
   "outputs": [
    {
     "name": "stdout",
     "output_type": "stream",
     "text": [
      "3091\n",
      "0\n",
      "100\n",
      "200\n",
      "300\n",
      "400\n",
      "500\n",
      "600\n",
      "700\n",
      "800\n",
      "900\n",
      "1000\n",
      "1100\n",
      "1200\n",
      "1300\n",
      "1400\n",
      "1500\n",
      "1600\n",
      "1700\n",
      "1800\n",
      "1900\n",
      "2000\n",
      "2100\n",
      "2200\n",
      "2300\n",
      "2400\n",
      "2500\n",
      "2600\n",
      "2700\n",
      "2800\n",
      "2900\n",
      "3000\n"
     ]
    }
   ],
   "source": [
    "gen_var_lst = [x for x in gen_var_lst if len(x.split(' '))==1]\n",
    "print(len(gen_var_lst))\n",
    "i_ = 0\n",
    "\n",
    "#commented for Kaggle Limits\n",
    "for gen_var_lst_itm in gen_var_lst:\n",
    "    if i_ % 100 == 0: print(i_)\n",
    "    df_all['GV_'+str(gen_var_lst_itm)] = df_all['Text'].map(lambda x: str(x).count(str(gen_var_lst_itm)))\n",
    "    i_ += 1"
   ]
  },
  {
   "cell_type": "code",
   "execution_count": 7,
   "metadata": {
    "collapsed": true
   },
   "outputs": [],
   "source": [
    "for c in df_all.columns:\n",
    "    if df_all[c].dtype == 'object':\n",
    "        if c in ['Gene','Variation']:\n",
    "            lbl = preprocessing.LabelEncoder()\n",
    "            df_all[c+'_lbl_enc'] = lbl.fit_transform(df_all[c].values)  \n",
    "            df_all[c+'_len'] = df_all[c].map(lambda x: len(str(x)))\n",
    "            df_all[c+'_words'] = df_all[c].map(lambda x: len(str(x).split(' ')))\n",
    "        elif c != 'Text':\n",
    "            lbl = preprocessing.LabelEncoder()\n",
    "            df_all[c] = lbl.fit_transform(df_all[c].values)\n",
    "        if c=='Text': \n",
    "            df_all[c+'_len'] = df_all[c].map(lambda x: len(str(x)))\n",
    "            df_all[c+'_words'] = df_all[c].map(lambda x: len(str(x).split(' '))) \n",
    "\n",
    "train = df_all.iloc[:len(train)]\n",
    "test = df_all.iloc[len(train):]"
   ]
  },
  {
   "cell_type": "code",
   "execution_count": 8,
   "metadata": {
    "collapsed": true
   },
   "outputs": [],
   "source": [
    "class cust_regression_vals(sklearn.base.BaseEstimator, sklearn.base.TransformerMixin):\n",
    "    def fit(self, x, y=None):\n",
    "        return self\n",
    "    def transform(self, x):\n",
    "        x = x.drop(['Gene', 'Variation','ID','Text'],axis=1).values\n",
    "        return x\n",
    "\n",
    "class cust_txt_col(sklearn.base.BaseEstimator, sklearn.base.TransformerMixin):\n",
    "    def __init__(self, key):\n",
    "        self.key = key\n",
    "    def fit(self, x, y=None):\n",
    "        return self\n",
    "    def transform(self, x):\n",
    "        return x[self.key].apply(str)"
   ]
  },
  {
   "cell_type": "code",
   "execution_count": 9,
   "metadata": {
    "collapsed": false
   },
   "outputs": [
    {
     "name": "stdout",
     "output_type": "stream",
     "text": [
      "Pipeline...\n"
     ]
    },
    {
     "name": "stderr",
     "output_type": "stream",
     "text": [
      "C:\\Users\\Crossbell\\Anaconda2\\lib\\site-packages\\sklearn\\feature_extraction\\hashing.py:94: DeprecationWarning: the option non_negative=True has been deprecated in 0.19 and will be removed in version 0.21.\n",
      "  \" in version 0.21.\", DeprecationWarning)\n",
      "C:\\Users\\Crossbell\\Anaconda2\\lib\\site-packages\\sklearn\\feature_extraction\\hashing.py:94: DeprecationWarning: the option non_negative=True has been deprecated in 0.19 and will be removed in version 0.21.\n",
      "  \" in version 0.21.\", DeprecationWarning)\n"
     ]
    },
    {
     "name": "stdout",
     "output_type": "stream",
     "text": [
      "(3321L, 3441L)\n"
     ]
    },
    {
     "name": "stderr",
     "output_type": "stream",
     "text": [
      "C:\\Users\\Crossbell\\Anaconda2\\lib\\site-packages\\sklearn\\feature_extraction\\hashing.py:94: DeprecationWarning: the option non_negative=True has been deprecated in 0.19 and will be removed in version 0.21.\n",
      "  \" in version 0.21.\", DeprecationWarning)\n",
      "C:\\Users\\Crossbell\\Anaconda2\\lib\\site-packages\\sklearn\\feature_extraction\\hashing.py:94: DeprecationWarning: the option non_negative=True has been deprecated in 0.19 and will be removed in version 0.21.\n",
      "  \" in version 0.21.\", DeprecationWarning)\n",
      "C:\\Users\\Crossbell\\Anaconda2\\lib\\site-packages\\sklearn\\feature_extraction\\hashing.py:94: DeprecationWarning: the option non_negative=True has been deprecated in 0.19 and will be removed in version 0.21.\n",
      "  \" in version 0.21.\", DeprecationWarning)\n",
      "C:\\Users\\Crossbell\\Anaconda2\\lib\\site-packages\\sklearn\\feature_extraction\\hashing.py:94: DeprecationWarning: the option non_negative=True has been deprecated in 0.19 and will be removed in version 0.21.\n",
      "  \" in version 0.21.\", DeprecationWarning)\n",
      "C:\\Users\\Crossbell\\Anaconda2\\lib\\site-packages\\sklearn\\feature_extraction\\hashing.py:94: DeprecationWarning: the option non_negative=True has been deprecated in 0.19 and will be removed in version 0.21.\n",
      "  \" in version 0.21.\", DeprecationWarning)\n"
     ]
    },
    {
     "name": "stdout",
     "output_type": "stream",
     "text": [
      "(986L, 3441L)\n"
     ]
    }
   ],
   "source": [
    "print('Pipeline...')\n",
    "fp = pipeline.Pipeline([\n",
    "    ('union', pipeline.FeatureUnion(\n",
    "        transformer_list = [\n",
    "            ('standard', cust_regression_vals()),\n",
    "            ('pi1', pipeline.Pipeline([('Gene', cust_txt_col('Gene')), \n",
    "                                       ('count_Gene', feature_extraction.text.CountVectorizer(analyzer=u'char', ngram_range=(1, 8))), \n",
    "                                       ('tsvd1', decomposition.TruncatedSVD(n_components=20, n_iter=25, random_state=12))])),\n",
    "            ('pi2', pipeline.Pipeline([('Variation', cust_txt_col('Variation')), \n",
    "                                       ('count_Variation', feature_extraction.text.CountVectorizer(analyzer=u'char', ngram_range=(1, 8))), \n",
    "                                       ('tsvd2', decomposition.TruncatedSVD(n_components=20, n_iter=25, random_state=12))])),\n",
    "            #commented for Kaggle Limits\n",
    "            ('pi3', pipeline.Pipeline([('Text', cust_txt_col('Text')), \n",
    "                                       ('hv', feature_extraction.text.HashingVectorizer(decode_error='ignore', n_features=2 ** 16, non_negative=True, ngram_range=(1, 3))),\n",
    "                                       ('tfidf_Text', feature_extraction.text.TfidfTransformer()), \n",
    "                                       ('tsvd3', decomposition.TruncatedSVD(n_components=300, n_iter=25, random_state=12))]))\n",
    "\n",
    "        \n",
    "        ])\n",
    "    )])\n",
    "\n",
    "\n",
    "train = fp.fit_transform(train)\n",
    "print (train.shape)\n",
    "\n",
    "test_t = np.empty([0, train.shape[1]])\n",
    "step = 200\n",
    "for i in range(0, len(test), step):\n",
    "    step_end = i+step\n",
    "    step_end = step_end if step_end < len(test) else len(test)\n",
    "    _test = fp.transform(test.iloc[i:step_end])\n",
    "    test_t = np.vstack((test_t, _test))\n",
    "test = test_t\n",
    "print (test.shape)"
   ]
  },
  {
   "cell_type": "code",
   "execution_count": 1,
   "metadata": {
    "collapsed": false
   },
   "outputs": [
    {
     "ename": "NameError",
     "evalue": "name 'test' is not defined",
     "output_type": "error",
     "traceback": [
      "\u001b[0;31m---------------------------------------------------------------------------\u001b[0m",
      "\u001b[0;31mNameError\u001b[0m                                 Traceback (most recent call last)",
      "\u001b[0;32m<ipython-input-1-079413d30063>\u001b[0m in \u001b[0;36m<module>\u001b[0;34m()\u001b[0m\n\u001b[0;32m----> 1\u001b[0;31m \u001b[0mtest\u001b[0m\u001b[1;33m.\u001b[0m\u001b[0mhead\u001b[0m\u001b[1;33m(\u001b[0m\u001b[1;33m)\u001b[0m\u001b[1;33m\u001b[0m\u001b[0m\n\u001b[0m",
      "\u001b[0;31mNameError\u001b[0m: name 'test' is not defined"
     ]
    }
   ],
   "source": [
    "test.head()"
   ]
  },
  {
   "cell_type": "code",
   "execution_count": 19,
   "metadata": {
    "collapsed": true
   },
   "outputs": [],
   "source": [
    "y = y - 1 #fix for zero bound array"
   ]
  },
  {
   "cell_type": "code",
   "execution_count": 24,
   "metadata": {
    "collapsed": false
   },
   "outputs": [
    {
     "name": "stdout",
     "output_type": "stream",
     "text": [
      "Will train until valid error hasn't decreased in 100 rounds.\n",
      "[0]\ttrain-mlogloss:2.155569\tvalid-mlogloss:2.165212\n",
      "[50]\ttrain-mlogloss:1.134984\tvalid-mlogloss:1.403037\n",
      "[100]\ttrain-mlogloss:0.759620\tvalid-mlogloss:1.150600\n",
      "[150]\ttrain-mlogloss:0.551898\tvalid-mlogloss:1.043231\n",
      "[200]\ttrain-mlogloss:0.424364\tvalid-mlogloss:0.990041\n",
      "[250]\ttrain-mlogloss:0.339659\tvalid-mlogloss:0.962788\n",
      "[300]\ttrain-mlogloss:0.269596\tvalid-mlogloss:0.950712\n",
      "[350]\ttrain-mlogloss:0.212985\tvalid-mlogloss:0.947896\n",
      "[400]\ttrain-mlogloss:0.169734\tvalid-mlogloss:0.949173\n",
      "[450]\ttrain-mlogloss:0.135685\tvalid-mlogloss:0.958045\n",
      "Stopping. Best iteration:\n",
      "[351]\ttrain-mlogloss:0.211926\tvalid-mlogloss:0.947768\n",
      "\n",
      "0.9477675844\n",
      "Will train until valid error hasn't decreased in 100 rounds.\n",
      "[0]\ttrain-mlogloss:2.156063\tvalid-mlogloss:2.165141\n",
      "[50]\ttrain-mlogloss:1.141816\tvalid-mlogloss:1.408891\n",
      "[100]\ttrain-mlogloss:0.759403\tvalid-mlogloss:1.155287\n",
      "[150]\ttrain-mlogloss:0.556548\tvalid-mlogloss:1.037828\n",
      "[200]\ttrain-mlogloss:0.425502\tvalid-mlogloss:0.983153\n",
      "[250]\ttrain-mlogloss:0.336818\tvalid-mlogloss:0.958249\n",
      "[300]\ttrain-mlogloss:0.268259\tvalid-mlogloss:0.948447\n",
      "[350]\ttrain-mlogloss:0.212461\tvalid-mlogloss:0.946134\n",
      "[400]\ttrain-mlogloss:0.169898\tvalid-mlogloss:0.947737\n",
      "Stopping. Best iteration:\n",
      "[347]\ttrain-mlogloss:0.215259\tvalid-mlogloss:0.945856\n",
      "\n",
      "0.945856308184\n",
      "Will train until valid error hasn't decreased in 100 rounds.\n",
      "[0]\ttrain-mlogloss:2.156884\tvalid-mlogloss:2.163481\n",
      "[50]\ttrain-mlogloss:1.157353\tvalid-mlogloss:1.362485\n",
      "[100]\ttrain-mlogloss:0.765725\tvalid-mlogloss:1.103620\n",
      "[150]\ttrain-mlogloss:0.553923\tvalid-mlogloss:0.985393\n",
      "[200]\ttrain-mlogloss:0.425654\tvalid-mlogloss:0.929850\n",
      "[250]\ttrain-mlogloss:0.336725\tvalid-mlogloss:0.900320\n",
      "[300]\ttrain-mlogloss:0.268654\tvalid-mlogloss:0.880881\n",
      "[350]\ttrain-mlogloss:0.216437\tvalid-mlogloss:0.870586\n",
      "[400]\ttrain-mlogloss:0.174214\tvalid-mlogloss:0.868183\n",
      "[450]\ttrain-mlogloss:0.139778\tvalid-mlogloss:0.867302\n",
      "[500]\ttrain-mlogloss:0.112851\tvalid-mlogloss:0.869408\n",
      "Stopping. Best iteration:\n",
      "[435]\ttrain-mlogloss:0.149156\tvalid-mlogloss:0.866516\n",
      "\n",
      "0.866516422297\n",
      "Will train until valid error hasn't decreased in 100 rounds.\n",
      "[0]\ttrain-mlogloss:2.155346\tvalid-mlogloss:2.162738\n",
      "[50]\ttrain-mlogloss:1.136080\tvalid-mlogloss:1.379628\n",
      "[100]\ttrain-mlogloss:0.755189\tvalid-mlogloss:1.126150\n",
      "[150]\ttrain-mlogloss:0.548038\tvalid-mlogloss:1.019338\n",
      "[200]\ttrain-mlogloss:0.420468\tvalid-mlogloss:0.970320\n",
      "[250]\ttrain-mlogloss:0.328404\tvalid-mlogloss:0.945147\n",
      "[300]\ttrain-mlogloss:0.258744\tvalid-mlogloss:0.929745\n",
      "[350]\ttrain-mlogloss:0.205836\tvalid-mlogloss:0.927315\n",
      "[400]\ttrain-mlogloss:0.163584\tvalid-mlogloss:0.930356\n",
      "Stopping. Best iteration:\n",
      "[349]\ttrain-mlogloss:0.206871\tvalid-mlogloss:0.927077\n",
      "\n",
      "0.927077435035\n",
      "Will train until valid error hasn't decreased in 100 rounds.\n",
      "[0]\ttrain-mlogloss:2.155693\tvalid-mlogloss:2.161823\n",
      "[50]\ttrain-mlogloss:1.148342\tvalid-mlogloss:1.346541\n",
      "[100]\ttrain-mlogloss:0.766487\tvalid-mlogloss:1.076084\n",
      "[150]\ttrain-mlogloss:0.557538\tvalid-mlogloss:0.956229\n",
      "[200]\ttrain-mlogloss:0.427549\tvalid-mlogloss:0.898466\n",
      "[250]\ttrain-mlogloss:0.342739\tvalid-mlogloss:0.866168\n",
      "[300]\ttrain-mlogloss:0.275777\tvalid-mlogloss:0.843869\n",
      "[350]\ttrain-mlogloss:0.220040\tvalid-mlogloss:0.834298\n",
      "[400]\ttrain-mlogloss:0.175587\tvalid-mlogloss:0.832071\n",
      "[450]\ttrain-mlogloss:0.141826\tvalid-mlogloss:0.831100\n",
      "[500]\ttrain-mlogloss:0.114815\tvalid-mlogloss:0.832361\n",
      "[550]\ttrain-mlogloss:0.092152\tvalid-mlogloss:0.837196\n",
      "Stopping. Best iteration:\n",
      "[466]\ttrain-mlogloss:0.132453\tvalid-mlogloss:0.830273\n",
      "\n",
      "0.830273251789\n",
      "Will train until valid error hasn't decreased in 100 rounds.\n",
      "[0]\ttrain-mlogloss:2.156587\tvalid-mlogloss:2.164489\n",
      "[50]\ttrain-mlogloss:1.137289\tvalid-mlogloss:1.397722\n",
      "[100]\ttrain-mlogloss:0.763076\tvalid-mlogloss:1.148460\n",
      "[150]\ttrain-mlogloss:0.557013\tvalid-mlogloss:1.031937\n",
      "[200]\ttrain-mlogloss:0.434954\tvalid-mlogloss:0.978352\n",
      "[250]\ttrain-mlogloss:0.347601\tvalid-mlogloss:0.949250\n",
      "[300]\ttrain-mlogloss:0.276915\tvalid-mlogloss:0.936018\n",
      "[350]\ttrain-mlogloss:0.222081\tvalid-mlogloss:0.931741\n",
      "[400]\ttrain-mlogloss:0.179279\tvalid-mlogloss:0.932264\n",
      "[450]\ttrain-mlogloss:0.143755\tvalid-mlogloss:0.933524\n",
      "Stopping. Best iteration:\n",
      "[357]\ttrain-mlogloss:0.215680\tvalid-mlogloss:0.930615\n",
      "\n",
      "0.930615053473\n",
      "Will train until valid error hasn't decreased in 100 rounds.\n",
      "[0]\ttrain-mlogloss:2.156041\tvalid-mlogloss:2.162704\n",
      "[50]\ttrain-mlogloss:1.158050\tvalid-mlogloss:1.350220\n",
      "[100]\ttrain-mlogloss:0.774908\tvalid-mlogloss:1.075929\n",
      "[150]\ttrain-mlogloss:0.563271\tvalid-mlogloss:0.954716\n",
      "[200]\ttrain-mlogloss:0.437369\tvalid-mlogloss:0.901858\n",
      "[250]\ttrain-mlogloss:0.346472\tvalid-mlogloss:0.873600\n",
      "[300]\ttrain-mlogloss:0.273044\tvalid-mlogloss:0.861528\n",
      "[350]\ttrain-mlogloss:0.218405\tvalid-mlogloss:0.854270\n",
      "[400]\ttrain-mlogloss:0.174381\tvalid-mlogloss:0.854359\n",
      "[450]\ttrain-mlogloss:0.139123\tvalid-mlogloss:0.857661\n",
      "Stopping. Best iteration:\n",
      "[378]\ttrain-mlogloss:0.192518\tvalid-mlogloss:0.853252\n",
      "\n",
      "0.853252091658\n",
      "Will train until valid error hasn't decreased in 100 rounds.\n",
      "[0]\ttrain-mlogloss:2.156026\tvalid-mlogloss:2.163776\n",
      "[50]\ttrain-mlogloss:1.145047\tvalid-mlogloss:1.378711\n",
      "[100]\ttrain-mlogloss:0.762323\tvalid-mlogloss:1.114662\n",
      "[150]\ttrain-mlogloss:0.547642\tvalid-mlogloss:0.992750\n",
      "[200]\ttrain-mlogloss:0.414989\tvalid-mlogloss:0.931435\n",
      "[250]\ttrain-mlogloss:0.332325\tvalid-mlogloss:0.903561\n",
      "[300]\ttrain-mlogloss:0.269841\tvalid-mlogloss:0.889332\n",
      "[350]\ttrain-mlogloss:0.219129\tvalid-mlogloss:0.883725\n",
      "[400]\ttrain-mlogloss:0.176209\tvalid-mlogloss:0.883355\n",
      "[450]\ttrain-mlogloss:0.142709\tvalid-mlogloss:0.886833\n",
      "[500]\ttrain-mlogloss:0.117195\tvalid-mlogloss:0.893972\n",
      "Stopping. Best iteration:\n",
      "[404]\ttrain-mlogloss:0.173303\tvalid-mlogloss:0.882798\n",
      "\n",
      "0.882798488353\n",
      "Will train until valid error hasn't decreased in 100 rounds.\n",
      "[0]\ttrain-mlogloss:2.156673\tvalid-mlogloss:2.161371\n",
      "[50]\ttrain-mlogloss:1.146495\tvalid-mlogloss:1.317054\n",
      "[100]\ttrain-mlogloss:0.771291\tvalid-mlogloss:1.041005\n",
      "[150]\ttrain-mlogloss:0.567796\tvalid-mlogloss:0.915921\n",
      "[200]\ttrain-mlogloss:0.443488\tvalid-mlogloss:0.853047\n",
      "[250]\ttrain-mlogloss:0.353344\tvalid-mlogloss:0.820033\n",
      "[300]\ttrain-mlogloss:0.283140\tvalid-mlogloss:0.801613\n",
      "[350]\ttrain-mlogloss:0.229901\tvalid-mlogloss:0.792823\n",
      "[400]\ttrain-mlogloss:0.185136\tvalid-mlogloss:0.793166\n",
      "[450]\ttrain-mlogloss:0.149200\tvalid-mlogloss:0.796429\n",
      "Stopping. Best iteration:\n",
      "[386]\ttrain-mlogloss:0.197443\tvalid-mlogloss:0.792042\n",
      "\n",
      "0.792042468395\n",
      "Will train until valid error hasn't decreased in 100 rounds.\n",
      "[0]\ttrain-mlogloss:2.155865\tvalid-mlogloss:2.164640\n",
      "[50]\ttrain-mlogloss:1.134947\tvalid-mlogloss:1.393420\n",
      "[100]\ttrain-mlogloss:0.760816\tvalid-mlogloss:1.140939\n",
      "[150]\ttrain-mlogloss:0.554174\tvalid-mlogloss:1.026790\n",
      "[200]\ttrain-mlogloss:0.430583\tvalid-mlogloss:0.977254\n",
      "[250]\ttrain-mlogloss:0.339825\tvalid-mlogloss:0.952821\n",
      "[300]\ttrain-mlogloss:0.271034\tvalid-mlogloss:0.946785\n",
      "[350]\ttrain-mlogloss:0.216591\tvalid-mlogloss:0.947103\n",
      "[400]\ttrain-mlogloss:0.174822\tvalid-mlogloss:0.952093\n",
      "Stopping. Best iteration:\n",
      "[309]\ttrain-mlogloss:0.259952\tvalid-mlogloss:0.945594\n",
      "\n",
      "0.945593664094\n",
      "Will train until valid error hasn't decreased in 100 rounds.\n",
      "[0]\ttrain-mlogloss:2.155693\tvalid-mlogloss:2.162426\n",
      "[50]\ttrain-mlogloss:1.153661\tvalid-mlogloss:1.348767\n",
      "[100]\ttrain-mlogloss:0.780759\tvalid-mlogloss:1.072763\n",
      "[150]\ttrain-mlogloss:0.566510\tvalid-mlogloss:0.940240\n",
      "[200]\ttrain-mlogloss:0.435606\tvalid-mlogloss:0.873502\n",
      "[250]\ttrain-mlogloss:0.348980\tvalid-mlogloss:0.839012\n",
      "[300]\ttrain-mlogloss:0.281081\tvalid-mlogloss:0.824022\n",
      "[350]\ttrain-mlogloss:0.223889\tvalid-mlogloss:0.815471\n",
      "[400]\ttrain-mlogloss:0.178807\tvalid-mlogloss:0.813085\n",
      "[450]\ttrain-mlogloss:0.142808\tvalid-mlogloss:0.814796\n",
      "Stopping. Best iteration:\n",
      "[393]\ttrain-mlogloss:0.184364\tvalid-mlogloss:0.812625\n",
      "\n",
      "0.812624907269\n",
      "Will train until valid error hasn't decreased in 100 rounds.\n",
      "[0]\ttrain-mlogloss:2.155637\tvalid-mlogloss:2.163699\n",
      "[50]\ttrain-mlogloss:1.141597\tvalid-mlogloss:1.363591\n",
      "[100]\ttrain-mlogloss:0.764428\tvalid-mlogloss:1.098163\n",
      "[150]\ttrain-mlogloss:0.549526\tvalid-mlogloss:0.976670\n",
      "[200]\ttrain-mlogloss:0.418554\tvalid-mlogloss:0.918974\n",
      "[250]\ttrain-mlogloss:0.332359\tvalid-mlogloss:0.891628\n",
      "[300]\ttrain-mlogloss:0.263246\tvalid-mlogloss:0.879844\n",
      "[350]\ttrain-mlogloss:0.210501\tvalid-mlogloss:0.871656\n",
      "[400]\ttrain-mlogloss:0.166410\tvalid-mlogloss:0.867968\n",
      "[450]\ttrain-mlogloss:0.134717\tvalid-mlogloss:0.868450\n",
      "Stopping. Best iteration:\n",
      "[390]\ttrain-mlogloss:0.173912\tvalid-mlogloss:0.867523\n",
      "\n",
      "0.867523487262\n",
      "Will train until valid error hasn't decreased in 100 rounds.\n",
      "[0]\ttrain-mlogloss:2.156279\tvalid-mlogloss:2.162286\n",
      "[50]\ttrain-mlogloss:1.153079\tvalid-mlogloss:1.364007\n",
      "[100]\ttrain-mlogloss:0.766422\tvalid-mlogloss:1.106688\n",
      "[150]\ttrain-mlogloss:0.546710\tvalid-mlogloss:0.986232\n",
      "[200]\ttrain-mlogloss:0.420938\tvalid-mlogloss:0.933372\n",
      "[250]\ttrain-mlogloss:0.335502\tvalid-mlogloss:0.907000\n",
      "[300]\ttrain-mlogloss:0.264718\tvalid-mlogloss:0.898207\n",
      "[350]\ttrain-mlogloss:0.211781\tvalid-mlogloss:0.896932\n",
      "[400]\ttrain-mlogloss:0.170584\tvalid-mlogloss:0.901787\n",
      "Stopping. Best iteration:\n",
      "[327]\ttrain-mlogloss:0.234719\tvalid-mlogloss:0.895801\n",
      "\n",
      "0.895800771642\n",
      "Will train until valid error hasn't decreased in 100 rounds.\n",
      "[0]\ttrain-mlogloss:2.155023\tvalid-mlogloss:2.162159\n",
      "[50]\ttrain-mlogloss:1.143883\tvalid-mlogloss:1.347419\n",
      "[100]\ttrain-mlogloss:0.774548\tvalid-mlogloss:1.087778\n",
      "[150]\ttrain-mlogloss:0.563764\tvalid-mlogloss:0.973342\n",
      "[200]\ttrain-mlogloss:0.436601\tvalid-mlogloss:0.918520\n",
      "[250]\ttrain-mlogloss:0.350296\tvalid-mlogloss:0.890413\n",
      "[300]\ttrain-mlogloss:0.280622\tvalid-mlogloss:0.878983\n",
      "[350]\ttrain-mlogloss:0.226696\tvalid-mlogloss:0.874985\n",
      "[400]\ttrain-mlogloss:0.182120\tvalid-mlogloss:0.878038\n",
      "[450]\ttrain-mlogloss:0.145704\tvalid-mlogloss:0.882956\n",
      "Stopping. Best iteration:\n",
      "[355]\ttrain-mlogloss:0.221607\tvalid-mlogloss:0.874665\n",
      "\n",
      "0.874664656288\n",
      "Will train until valid error hasn't decreased in 100 rounds.\n",
      "[0]\ttrain-mlogloss:2.156142\tvalid-mlogloss:2.162842\n",
      "[50]\ttrain-mlogloss:1.139390\tvalid-mlogloss:1.383718\n",
      "[100]\ttrain-mlogloss:0.764750\tvalid-mlogloss:1.123840\n",
      "[150]\ttrain-mlogloss:0.557841\tvalid-mlogloss:1.013507\n",
      "[200]\ttrain-mlogloss:0.434495\tvalid-mlogloss:0.961683\n",
      "[250]\ttrain-mlogloss:0.346780\tvalid-mlogloss:0.935131\n",
      "[300]\ttrain-mlogloss:0.277798\tvalid-mlogloss:0.922859\n",
      "[350]\ttrain-mlogloss:0.223627\tvalid-mlogloss:0.921650\n",
      "[400]\ttrain-mlogloss:0.182276\tvalid-mlogloss:0.926001\n",
      "Stopping. Best iteration:\n",
      "[341]\ttrain-mlogloss:0.232127\tvalid-mlogloss:0.921138\n",
      "\n",
      "0.921137542483\n",
      "Will train until valid error hasn't decreased in 100 rounds.\n",
      "[0]\ttrain-mlogloss:2.155617\tvalid-mlogloss:2.163647\n",
      "[50]\ttrain-mlogloss:1.141633\tvalid-mlogloss:1.389526\n",
      "[100]\ttrain-mlogloss:0.756572\tvalid-mlogloss:1.135257\n",
      "[150]\ttrain-mlogloss:0.549414\tvalid-mlogloss:1.027999\n",
      "[200]\ttrain-mlogloss:0.423490\tvalid-mlogloss:0.978400\n",
      "[250]\ttrain-mlogloss:0.337270\tvalid-mlogloss:0.956593\n",
      "[300]\ttrain-mlogloss:0.268633\tvalid-mlogloss:0.946016\n",
      "[350]\ttrain-mlogloss:0.218354\tvalid-mlogloss:0.941714\n",
      "[400]\ttrain-mlogloss:0.175547\tvalid-mlogloss:0.943269\n",
      "[450]\ttrain-mlogloss:0.140301\tvalid-mlogloss:0.950967\n",
      "Stopping. Best iteration:\n",
      "[357]\ttrain-mlogloss:0.211767\tvalid-mlogloss:0.940807\n",
      "\n",
      "0.940807143286\n",
      "Will train until valid error hasn't decreased in 100 rounds.\n",
      "[0]\ttrain-mlogloss:2.155660\tvalid-mlogloss:2.162963\n",
      "[50]\ttrain-mlogloss:1.145141\tvalid-mlogloss:1.365908\n",
      "[100]\ttrain-mlogloss:0.770766\tvalid-mlogloss:1.096189\n",
      "[150]\ttrain-mlogloss:0.560912\tvalid-mlogloss:0.967370\n",
      "[200]\ttrain-mlogloss:0.438606\tvalid-mlogloss:0.907397\n",
      "[250]\ttrain-mlogloss:0.353442\tvalid-mlogloss:0.872803\n",
      "[300]\ttrain-mlogloss:0.280063\tvalid-mlogloss:0.856580\n",
      "[350]\ttrain-mlogloss:0.227533\tvalid-mlogloss:0.849490\n",
      "[400]\ttrain-mlogloss:0.184753\tvalid-mlogloss:0.846845\n",
      "[450]\ttrain-mlogloss:0.148975\tvalid-mlogloss:0.848843\n",
      "Stopping. Best iteration:\n",
      "[399]\ttrain-mlogloss:0.185742\tvalid-mlogloss:0.846787\n",
      "\n",
      "0.846786740928\n",
      "Will train until valid error hasn't decreased in 100 rounds.\n",
      "[0]\ttrain-mlogloss:2.154973\tvalid-mlogloss:2.162001\n",
      "[50]\ttrain-mlogloss:1.134036\tvalid-mlogloss:1.354537\n",
      "[100]\ttrain-mlogloss:0.758622\tvalid-mlogloss:1.101354\n",
      "[150]\ttrain-mlogloss:0.552181\tvalid-mlogloss:0.983455\n",
      "[200]\ttrain-mlogloss:0.424269\tvalid-mlogloss:0.934284\n",
      "[250]\ttrain-mlogloss:0.336856\tvalid-mlogloss:0.910518\n",
      "[300]\ttrain-mlogloss:0.267070\tvalid-mlogloss:0.895270\n",
      "[350]\ttrain-mlogloss:0.213566\tvalid-mlogloss:0.891572\n",
      "[400]\ttrain-mlogloss:0.173414\tvalid-mlogloss:0.891025\n",
      "[450]\ttrain-mlogloss:0.139683\tvalid-mlogloss:0.896870\n",
      "Stopping. Best iteration:\n",
      "[388]\ttrain-mlogloss:0.182552\tvalid-mlogloss:0.890385\n",
      "\n",
      "0.890384994819\n",
      "Will train until valid error hasn't decreased in 100 rounds.\n",
      "[0]\ttrain-mlogloss:2.155296\tvalid-mlogloss:2.162332\n",
      "[50]\ttrain-mlogloss:1.137434\tvalid-mlogloss:1.379660\n",
      "[100]\ttrain-mlogloss:0.753315\tvalid-mlogloss:1.117239\n",
      "[150]\ttrain-mlogloss:0.545040\tvalid-mlogloss:0.993944\n",
      "[200]\ttrain-mlogloss:0.417540\tvalid-mlogloss:0.934139\n",
      "[250]\ttrain-mlogloss:0.333070\tvalid-mlogloss:0.899901\n",
      "[300]\ttrain-mlogloss:0.267592\tvalid-mlogloss:0.886181\n",
      "[350]\ttrain-mlogloss:0.215466\tvalid-mlogloss:0.878534\n",
      "[400]\ttrain-mlogloss:0.173663\tvalid-mlogloss:0.877508\n",
      "[450]\ttrain-mlogloss:0.140575\tvalid-mlogloss:0.878734\n",
      "Stopping. Best iteration:\n",
      "[390]\ttrain-mlogloss:0.181054\tvalid-mlogloss:0.876411\n",
      "\n",
      "0.87641053926\n",
      "Will train until valid error hasn't decreased in 100 rounds.\n",
      "[0]\ttrain-mlogloss:2.155558\tvalid-mlogloss:2.164682\n",
      "[50]\ttrain-mlogloss:1.134876\tvalid-mlogloss:1.382409\n",
      "[100]\ttrain-mlogloss:0.763402\tvalid-mlogloss:1.129793\n",
      "[150]\ttrain-mlogloss:0.548395\tvalid-mlogloss:1.007492\n",
      "[200]\ttrain-mlogloss:0.418099\tvalid-mlogloss:0.942433\n",
      "[250]\ttrain-mlogloss:0.331778\tvalid-mlogloss:0.907184\n",
      "[300]\ttrain-mlogloss:0.265466\tvalid-mlogloss:0.892848\n",
      "[350]\ttrain-mlogloss:0.212365\tvalid-mlogloss:0.889616\n",
      "[400]\ttrain-mlogloss:0.172125\tvalid-mlogloss:0.890648\n",
      "[450]\ttrain-mlogloss:0.137622\tvalid-mlogloss:0.897628\n",
      "Stopping. Best iteration:\n",
      "[354]\ttrain-mlogloss:0.208868\tvalid-mlogloss:0.889233\n",
      "\n",
      "0.889232942269\n"
     ]
    }
   ],
   "source": [
    "file_pre = datetime.datetime.now().strftime('%m_%d_%H_%M_%S')\n",
    "\n",
    "denom = 0\n",
    "fold = 100 #Change to 5, 1 for Kaggle Limits\n",
    "for i in range(fold):\n",
    "    params = {\n",
    "#         'eta': 0.03333,\n",
    "        'eta': 0.02,\n",
    "#         'max_depth': 4,\n",
    "        'max_depth': 6,\n",
    "        'objective': 'multi:softprob',\n",
    "        'eval_metric': 'mlogloss',\n",
    "        'num_class': 9,\n",
    "        'seed': i,\n",
    "        'silent': True\n",
    "    }\n",
    "    x1, x2, y1, y2 = model_selection.train_test_split(train, y, test_size=0.15, random_state=i)\n",
    "    watchlist = [(xgb.DMatrix(x1, y1), 'train'), (xgb.DMatrix(x2, y2), 'valid')]\n",
    "    model = xgb.train(params, xgb.DMatrix(x1, y1), 1000,  watchlist, verbose_eval=50, early_stopping_rounds=100)\n",
    "    score1 = metrics.log_loss(y2, model.predict(xgb.DMatrix(x2), ntree_limit=model.best_ntree_limit), labels = list(range(9)))\n",
    "    print(score1,i)\n",
    "    #if score < 0.9:\n",
    "    if denom != 0:\n",
    "        pred = model.predict(xgb.DMatrix(test), ntree_limit=model.best_ntree_limit+80)\n",
    "        preds += pred\n",
    "    else:\n",
    "        pred = model.predict(xgb.DMatrix(test), ntree_limit=model.best_ntree_limit+80)\n",
    "        preds = pred.copy()\n",
    "    denom += 1\n",
    "    submission = pd.DataFrame(pred, columns=['class'+str(c+1) for c in range(9)])\n",
    "    submission['ID'] = pid\n",
    "    submission.to_csv('result/submission_xgb_fold_'  + str(i) + '_' + file_pre + '.csv', index=False)"
   ]
  },
  {
   "cell_type": "code",
   "execution_count": null,
   "metadata": {
    "collapsed": false
   },
   "outputs": [],
   "source": []
  },
  {
   "cell_type": "code",
   "execution_count": null,
   "metadata": {
    "collapsed": false
   },
   "outputs": [],
   "source": []
  },
  {
   "cell_type": "code",
   "execution_count": null,
   "metadata": {
    "collapsed": true
   },
   "outputs": [],
   "source": []
  },
  {
   "cell_type": "code",
   "execution_count": null,
   "metadata": {
    "collapsed": true
   },
   "outputs": [],
   "source": []
  }
 ],
 "metadata": {
  "kernelspec": {
   "display_name": "Python 2",
   "language": "python",
   "name": "python2"
  },
  "language_info": {
   "codemirror_mode": {
    "name": "ipython",
    "version": 2
   },
   "file_extension": ".py",
   "mimetype": "text/x-python",
   "name": "python",
   "nbconvert_exporter": "python",
   "pygments_lexer": "ipython2",
   "version": "2.7.13"
  }
 },
 "nbformat": 4,
 "nbformat_minor": 2
}
